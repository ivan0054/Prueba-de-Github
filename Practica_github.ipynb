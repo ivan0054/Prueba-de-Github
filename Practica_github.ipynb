{
  "nbformat": 4,
  "nbformat_minor": 0,
  "metadata": {
    "colab": {
      "provenance": [],
      "authorship_tag": "ABX9TyOEmBmSyYO8Dnl36Hn+2oOf",
      "include_colab_link": true
    },
    "kernelspec": {
      "name": "python3",
      "display_name": "Python 3"
    },
    "language_info": {
      "name": "python"
    }
  },
  "cells": [
    {
      "cell_type": "markdown",
      "metadata": {
        "id": "view-in-github",
        "colab_type": "text"
      },
      "source": [
        "<a href=\"https://colab.research.google.com/github/ivan0054/Prueba-de-Github/blob/brunch1/Practica_github.ipynb\" target=\"_parent\"><img src=\"https://colab.research.google.com/assets/colab-badge.svg\" alt=\"Open In Colab\"/></a>"
      ]
    },
    {
      "cell_type": "code",
      "metadata": {
        "colab": {
          "base_uri": "https://localhost:8080/"
        },
        "id": "4151d113",
        "outputId": "a3ab40d9-27fa-4657-a4a8-eba954354a0c"
      },
      "source": [
        "# This is a simple Python code snippet\n",
        "\n",
        "# Print a message to the console\n",
        "print(\"¡Hola desde Colab!\")\n",
        "\n",
        "# Perform a simple mathematical operation\n",
        "a = 5\n",
        "b = 10\n",
        "sum = a + b\n",
        "print(f\"La suma de {a} y {b} es: {sum}\")"
      ],
      "execution_count": 2,
      "outputs": [
        {
          "output_type": "stream",
          "name": "stdout",
          "text": [
            "¡Hola desde Colab!\n",
            "La suma de 5 y 10 es: 15\n"
          ]
        }
      ]
    },
    {
      "cell_type": "code",
      "metadata": {
        "colab": {
          "base_uri": "https://localhost:8080/"
        },
        "id": "d58005fb",
        "outputId": "9d79a912-3922-4bb9-ed45-92724bfa8477"
      },
      "source": [
        "import math\n",
        "\n",
        "# Define the radius of the circle\n",
        "radius = 5\n",
        "\n",
        "# Calculate the area\n",
        "area = math.pi * (radius ** 2)\n",
        "\n",
        "# Print the result\n",
        "print(f\"El área de un círculo con radio {radius} es: {area}\")"
      ],
      "execution_count": 3,
      "outputs": [
        {
          "output_type": "stream",
          "name": "stdout",
          "text": [
            "El área de un círculo con radio 5 es: 78.53981633974483\n"
          ]
        }
      ]
    }
  ]
}