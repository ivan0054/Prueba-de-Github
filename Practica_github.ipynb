{
  "nbformat": 4,
  "nbformat_minor": 0,
  "metadata": {
    "colab": {
      "provenance": [],
      "authorship_tag": "ABX9TyManAf7qbd5FRG8Be3iVLm9",
      "include_colab_link": true
    },
    "kernelspec": {
      "name": "python3",
      "display_name": "Python 3"
    },
    "language_info": {
      "name": "python"
    }
  },
  "cells": [
    {
      "cell_type": "markdown",
      "metadata": {
        "id": "view-in-github",
        "colab_type": "text"
      },
      "source": [
        "<a href=\"https://colab.research.google.com/github/ivan0054/Prueba-de-Github/blob/main/Practica_github.ipynb\" target=\"_parent\"><img src=\"https://colab.research.google.com/assets/colab-badge.svg\" alt=\"Open In Colab\"/></a>"
      ]
    },
    {
      "cell_type": "code",
      "metadata": {
        "colab": {
          "base_uri": "https://localhost:8080/"
        },
        "id": "4151d113",
        "outputId": "a3ab40d9-27fa-4657-a4a8-eba954354a0c"
      },
      "source": [
        "# This is a simple Python code snippet\n",
        "\n",
        "# Print a message to the console\n",
        "print(\"¡Hola desde Colab!\")\n",
        "\n",
        "# Perform a simple mathematical operation\n",
        "a = 5\n",
        "b = 10\n",
        "sum = a + b\n",
        "print(f\"La suma de {a} y {b} es: {sum}\")"
      ],
      "execution_count": 2,
      "outputs": [
        {
          "output_type": "stream",
          "name": "stdout",
          "text": [
            "¡Hola desde Colab!\n",
            "La suma de 5 y 10 es: 15\n"
          ]
        }
      ]
    }
  ]
}